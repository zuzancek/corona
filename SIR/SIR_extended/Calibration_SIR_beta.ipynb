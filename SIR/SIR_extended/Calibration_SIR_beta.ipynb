{
 "cells": [
  {
   "cell_type": "code",
   "execution_count": 4,
   "metadata": {},
   "outputs": [
    {
     "ename": "SyntaxError",
     "evalue": "invalid syntax (init_common.py, line 63)",
     "output_type": "error",
     "traceback": [
      "Traceback \u001b[1;36m(most recent call last)\u001b[0m:\n",
      "  File \u001b[0;32m\"C:\\RRZsw\\Anaconda3\\lib\\site-packages\\IPython\\core\\interactiveshell.py\"\u001b[0m, line \u001b[0;32m3331\u001b[0m, in \u001b[0;35mrun_code\u001b[0m\n    exec(code_obj, self.user_global_ns, self.user_ns)\n",
      "\u001b[1;36m  File \u001b[1;32m\"<ipython-input-4-3a6794cb7d1c>\"\u001b[1;36m, line \u001b[1;32m13\u001b[1;36m, in \u001b[1;35m<module>\u001b[1;36m\u001b[0m\n\u001b[1;33m    import init_common as z\u001b[0m\n",
      "\u001b[1;36m  File \u001b[1;32m\"C:\\Users\\zuzana.mucka\\Desktop\\corona_projekt\\SIR_extended\\init_common.py\"\u001b[1;36m, line \u001b[1;32m63\u001b[0m\n\u001b[1;33m    def get_OD_matrix:\u001b[0m\n\u001b[1;37m                     ^\u001b[0m\n\u001b[1;31mSyntaxError\u001b[0m\u001b[1;31m:\u001b[0m invalid syntax\n"
     ]
    }
   ],
   "source": [
    "import sys\n",
    "import numpy as np\n",
    "import scipy.special as sps\n",
    "import scipy.stats as st\n",
    "import pickle\n",
    "import pandas as pd\n",
    "import plotly\n",
    "import plotly.graph_objects as go\n",
    "import matplotlib.pyplot as plt\n",
    "import seaborn as sns\n",
    "import random\n",
    "import time\n",
    "import init_common as z\n",
    "import init_spec_gamma as zz\n",
    "import helpers as hp\n",
    "from random import sample\n",
    "from sklearn.utils import shuffle\n",
    "\n",
    "sns.set(rc={'figure.figsize':(11, 4)})\n",
    "\n",
    "R0_target = 2.2\n",
    "bnum = 50\n",
    "N_nodes = 1000000\n",
    "\n",
    "## 1. add distribution for recovery time / gamma\n",
    "Trec_mean  = 6.5 # serial interval\n",
    "Trec_sig = 0.62\n",
    "m0 = Trec_mean*(Trec_sig**2)\n",
    "s0 = 1/(Trec_sig**2)\n",
    "Trec_vec = np.random.gamma(m0,s0,N_nodes)\n",
    "Trec_mean = np.average(Trec_vec)\n",
    "med = np.median(Trec_vec)\n",
    "gamma_mean = 1/Trec_mean \n",
    "cnt,bins,ign=plt.hist(Trec_vec,bins=bnum,density=True)\n",
    "plt.plot(bins,st.gamma.pdf(bins,m0,0,s0))\n",
    "plt.title(\"Serial interval distribution\")\n",
    "plt.savefig(\"./calib/Serial_interval_pdf.png\")\n",
    "\n",
    "print(\"Recovery time: mean = \"+str(np.round(Trec_mean,3))+\", std = \"+str(np.round(np.std(Trec_vec),3))+\n",
    "     \", median = \"+str(np.round(med,3)))\n"
   ]
  },
  {
   "cell_type": "code",
   "execution_count": 3,
   "metadata": {},
   "outputs": [
    {
     "ename": "NameError",
     "evalue": "name 'N_nodes' is not defined",
     "output_type": "error",
     "traceback": [
      "\u001b[1;31m---------------------------------------------------------------------------\u001b[0m",
      "\u001b[1;31mNameError\u001b[0m                                 Traceback (most recent call last)",
      "\u001b[1;32m<ipython-input-3-21210dfc27d0>\u001b[0m in \u001b[0;36m<module>\u001b[1;34m\u001b[0m\n\u001b[0;32m      2\u001b[0m \u001b[1;31m## 2.A self-isolated\u001b[0m\u001b[1;33m\u001b[0m\u001b[1;33m\u001b[0m\u001b[1;33m\u001b[0m\u001b[0m\n\u001b[0;32m      3\u001b[0m \u001b[0misol_share\u001b[0m \u001b[1;33m=\u001b[0m \u001b[1;36m0.7\u001b[0m\u001b[1;33m\u001b[0m\u001b[1;33m\u001b[0m\u001b[0m\n\u001b[1;32m----> 4\u001b[1;33m \u001b[0mN_nodes_isol\u001b[0m \u001b[1;33m=\u001b[0m \u001b[0mround\u001b[0m\u001b[1;33m(\u001b[0m\u001b[0misol_share\u001b[0m\u001b[1;33m*\u001b[0m\u001b[0mN_nodes\u001b[0m\u001b[1;33m)\u001b[0m\u001b[1;33m\u001b[0m\u001b[1;33m\u001b[0m\u001b[0m\n\u001b[0m\u001b[0;32m      5\u001b[0m \u001b[1;31m# their R0 follows gamma dist. with very small variance\u001b[0m\u001b[1;33m\u001b[0m\u001b[1;33m\u001b[0m\u001b[1;33m\u001b[0m\u001b[0m\n\u001b[0;32m      6\u001b[0m \u001b[0mR0_scale\u001b[0m \u001b[1;33m=\u001b[0m \u001b[1;36m100\u001b[0m \u001b[1;31m#10**2\u001b[0m\u001b[1;33m\u001b[0m\u001b[1;33m\u001b[0m\u001b[0m\n",
      "\u001b[1;31mNameError\u001b[0m: name 'N_nodes' is not defined"
     ]
    }
   ],
   "source": [
    "## 2.add distribution for R0 \n",
    "## 2.A self-isolated\n",
    "isol_share = 0.7\n",
    "N_nodes_isol = round(isol_share*N_nodes)\n",
    "# their R0 follows gamma dist. with very small variance\n",
    "R0_scale = 100 #10**2\n",
    "R0_isol_mean = 3.96*0.25\n",
    "m0 = R0_scale*R0_isol_mean\n",
    "s0 = 1/R0_scale\n",
    "R0_isol_vec = np.random.gamma(m0,s0,N_nodes_isol)\n",
    "\n",
    "print(\"R0 for self-isolated: mean = \"+str(np.round(np.mean(R0_isol_vec),3))+\n",
    "      \", std = \"+str(np.round(np.std(R0_isol_vec),3)))\n",
    "\n",
    "cnt,bins,ign=plt.hist(R0_isol_vec,bins=bnum,density=True)\n",
    "plt.plot(bins,st.gamma.pdf(bins,m0,0,s0))\n",
    "#plt.plot(bins,st.gamma.pdf(bins,params[0],params[1],params[2]))\n",
    "#print(\"Parameters of fitted Gamma dist:\")\n",
    "plt.title(\"R0 for isolated\")\n",
    "plt.savefig(\"./calib/R0_isol_pdf.png\")"
   ]
  },
  {
   "cell_type": "code",
   "execution_count": 1,
   "metadata": {},
   "outputs": [
    {
     "ename": "NameError",
     "evalue": "name 'R0_isol_mean' is not defined",
     "output_type": "error",
     "traceback": [
      "\u001b[1;31m---------------------------------------------------------------------------\u001b[0m",
      "\u001b[1;31mNameError\u001b[0m                                 Traceback (most recent call last)",
      "\u001b[1;32m<ipython-input-1-65dfbb21332b>\u001b[0m in \u001b[0;36m<module>\u001b[1;34m\u001b[0m\n\u001b[0;32m      1\u001b[0m \u001b[1;31m## 2.B non-isolated\u001b[0m\u001b[1;33m\u001b[0m\u001b[1;33m\u001b[0m\u001b[1;33m\u001b[0m\u001b[0m\n\u001b[1;32m----> 2\u001b[1;33m \u001b[0ma0\u001b[0m \u001b[1;33m=\u001b[0m \u001b[0mR0_isol_mean\u001b[0m\u001b[1;33m+\u001b[0m\u001b[0mnp\u001b[0m\u001b[1;33m.\u001b[0m\u001b[0mstd\u001b[0m\u001b[1;33m(\u001b[0m\u001b[0mR0_isol_vec\u001b[0m\u001b[1;33m)\u001b[0m\u001b[1;33m\u001b[0m\u001b[1;33m\u001b[0m\u001b[0m\n\u001b[0m\u001b[0;32m      3\u001b[0m \u001b[0ma1\u001b[0m \u001b[1;33m=\u001b[0m \u001b[1;36m16\u001b[0m\u001b[1;33m\u001b[0m\u001b[1;33m\u001b[0m\u001b[0m\n\u001b[0;32m      4\u001b[0m \u001b[0mscale_nonisol\u001b[0m \u001b[1;33m=\u001b[0m \u001b[1;36m2\u001b[0m\u001b[1;33m\u001b[0m\u001b[1;33m\u001b[0m\u001b[0m\n\u001b[0;32m      5\u001b[0m \u001b[0mN_nodes_nonisol\u001b[0m \u001b[1;33m=\u001b[0m \u001b[0mN_nodes\u001b[0m\u001b[1;33m-\u001b[0m\u001b[0mN_nodes_isol\u001b[0m\u001b[1;33m\u001b[0m\u001b[1;33m\u001b[0m\u001b[0m\n",
      "\u001b[1;31mNameError\u001b[0m: name 'R0_isol_mean' is not defined"
     ]
    }
   ],
   "source": [
    "## 2.B non-isolated\n",
    "a0 = R0_isol_mean+np.std(R0_isol_vec)\n",
    "a1 = 16\n",
    "scale_nonisol = 2\n",
    "N_nodes_nonisol = N_nodes-N_nodes_isol\n",
    "R0_nonisol_vec = hp.power_law_pdf(np.random.uniform(0,1,N_nodes_nonisol),a0,a1,scale_nonisol)\n",
    "cnt,bins,ign=plt.hist(R0_nonisol_vec,bins=bnum,density=True)\n",
    "plt.title(\"R0 for nonisolated, pdf\")\n",
    "plt.savefig(\"./calib/R0_nonisol_pdf.png\")\n",
    "\n",
    "print(\"R0 for non-isolated: mean = \"+str(np.round(np.mean(R0_nonisol_vec),3))+\n",
    "      \", std = \"+str(np.round(np.std(R0_nonisol_vec),3)))\n"
   ]
  },
  {
   "cell_type": "code",
   "execution_count": 156,
   "metadata": {},
   "outputs": [
    {
     "name": "stdout",
     "output_type": "stream",
     "text": [
      "R0 (total pop.): mean = 1.48, std = 1.388\n"
     ]
    },
    {
     "data": {
      "image/png": "[encoded data removed]",
      "text/plain": [
       "<Figure size 792x288 with 1 Axes>"
      ]
     },
     "metadata": {},
     "output_type": "display_data"
    }
   ],
   "source": [
    "## 2.C joint distribution\n",
    "R0_vec = shuffle(np.transpose([*np.transpose(R0_isol_vec),*np.transpose(R0_nonisol_vec)]),random_state=0)\n",
    "R0_vec_list = R0_vec.tolist()\n",
    "\n",
    "#R0_vec = beta_vec*Trec_vec\n",
    "R0_mean = np.mean(R0_vec)\n",
    "R0_std = np.std(R0_vec)\n",
    "\n",
    "print(\"R0 (total pop.): mean = \"+str(np.round(R0_mean,3))+\n",
    "      \", std = \"+str(np.round(R0_std,3)))\n",
    "cnt,bins,ign=plt.hist(R0_vec,bins=bnum,density=True)\n",
    "plt.title(\"R0 (total pop.)\")\n",
    "plt.savefig(\"./calib/R0_pdf.png\")\n"
   ]
  },
  {
   "cell_type": "code",
   "execution_count": 62,
   "metadata": {},
   "outputs": [
    {
     "data": {
      "text/plain": [
       "Text(0.5, 1.0, 'Beta, pdf')"
      ]
     },
     "execution_count": 62,
     "metadata": {},
     "output_type": "execute_result"
    },
    {
     "data": {
      "image/png": "[encoded data removed]",
      "text/plain": [
       "<Figure size 792x288 with 1 Axes>"
      ]
     },
     "metadata": {},
     "output_type": "display_data"
    }
   ],
   "source": [
    "## 3. exctract Beta\n",
    "Beta_vec = R0_vec/Trec_vec\n",
    "Beta_vec = Beta_vec[Beta_vec<2]\n",
    "cnt,bins,ign=plt.hist(Beta_vec,bins=bnum,density=True)\n",
    "plt.title(\"Beta, pdf\")"
   ]
  },
  {
   "cell_type": "code",
   "execution_count": 58,
   "metadata": {},
   "outputs": [
    {
     "data": {
      "text/plain": [
       "Text(0.5, 1.0, 'Beta, pdf')"
      ]
     },
     "execution_count": 58,
     "metadata": {},
     "output_type": "execute_result"
    },
    {
     "data": {
      "image/png": "[encoded data removed]",
      "text/plain": [
       "<Figure size 792x288 with 4 Axes>"
      ]
     },
     "metadata": {},
     "output_type": "display_data"
    }
   ],
   "source": [
    "## plotting\n",
    "plt.subplot(221)\n",
    "cnt,bins,ign=plt.hist(R0_isol_vec,bins=bnum,density=True)\n",
    "plt.plot(bins,st.gamma.pdf(bins,m0,0,s0))\n",
    "plt.title(\"R0 for isolated, pdf\")\n",
    "\n",
    "plt.subplot(222)\n",
    "R0_max=9\n",
    "R0_nonisol_vec0 = R0_nonisol_vec[R0_nonisol_vec<R0_max]\n",
    "cnt,bins,ign=plt.hist(R0_nonisol_vec0,bins=bnum,density=True)\n",
    "plt.title(\"R0 for nonisolated, pdf\")\n",
    "\n",
    "plt.subplot(223)\n",
    "R0_vec0 = R0_vec[R0_vec<6]\n",
    "cnt,bins,ign=plt.hist(R0_vec0,bins=bnum,density=True)\n",
    "plt.title(\"R0 total population, pdf\")\n",
    "\n",
    "plt.subplot(224)\n",
    "Beta_vec = Beta_vec[Beta_vec<2]\n",
    "cnt,bins,ign=plt.hist(Beta_vec,bins=bnum,density=True)\n",
    "plt.title(\"Beta, pdf\")"
   ]
  },
  {
   "cell_type": "code",
   "execution_count": null,
   "metadata": {},
   "outputs": [],
   "source": []
  }
 ],
 "metadata": {
  "kernelspec": {
   "display_name": "Python 3",
   "language": "python",
   "name": "python3"
  },
  "language_info": {
   "codemirror_mode": {
    "name": "ipython",
    "version": 3
   },
   "file_extension": ".py",
   "mimetype": "text/x-python",
   "name": "python",
   "nbconvert_exporter": "python",
   "pygments_lexer": "ipython3",
   "version": "3.7.6"
  }
 },
 "nbformat": 4,
 "nbformat_minor": 4
}
