{
 "cells": [
  {
   "cell_type": "code",
   "execution_count": null,
   "metadata": {},
   "outputs": [],
   "source": [
    "import sys\n",
    "import numpy as np\n",
    "from tqdm import tqdm_notebook\n",
    "import pickle\n",
    "import pandas as pd\n",
    "import plotly\n",
    "import plotly.graph_objects as go\n",
    "import matplotlib.pyplot as plt\n",
    "import seaborn as sns\n",
    "import time\n",
    "import init as x\n",
    "import simulate_corona_single as sc\n",
    "import simulate_corona_senior_single as scs\n",
    "\n",
    "## setting\n",
    "out_filename_pct = \"./out/SIR_pct.pickle\"\n",
    "out_filename_raw = \"./out/SIR_raw.pickle\"\n",
    "\n",
    "## initialize\n",
    "pct_data=[]\n",
    "raw_data=[]\n",
    "\n",
    "def save_results():\n",
    "    fid = open(out_filename_pct,'wb')\n",
    "    pickle.dump(pct_data,fid)\n",
    "    fid.close()\n",
    "    fid = open(out_filename_raw,'wb')\n",
    "    pickle.dump(raw_data,fid)\n",
    "    fid.close()\n",
    "\n",
    "print(\"R0:\"+str(x.R0))\n",
    "print(\"beta:\"+str(x.beta))\n",
    "\n",
    "for option_type in range(4):\n",
    "    \n",
    "    if option_type == 0: # high alpha\n",
    "        alpha_val = x.public_trans_high\n",
    "    elif option_type == 1: # medium alpha\n",
    "        alpha_val = x.public_trans_mid\n",
    "    elif option_type == 2: # low alpha\n",
    "        alpha_val = x.public_trans_low\n",
    "    else:# option_type == 3: # seniors\n",
    "        alpha_val = x.public_trans_low\n",
    "\n",
    "    print(\"Option type: \"+str(option_type))\n",
    "    print(\"alpha:\"+str(alpha_val))\n",
    "    alpha_vec = np.full(x.simul_cnt,alpha_val)\n",
    "    if option_type<=3:\n",
    "        pct_data0,raw_data0 = sc.simul(alpha_val)\n",
    "    else:\n",
    "        pct_data0,raw_data0 = scs.simul(alpha_val)\n",
    "    pct_data.append(pct_data0)\n",
    "    raw_data.append(raw_data0)\n",
    "    save_results()"
   ]
  },
  {
   "cell_type": "code",
   "execution_count": null,
   "metadata": {},
   "outputs": [],
   "source": []
  },
  {
   "cell_type": "code",
   "execution_count": null,
   "metadata": {},
   "outputs": [],
   "source": []
  }
 ],
 "metadata": {
  "kernelspec": {
   "display_name": "Python 3",
   "language": "python",
   "name": "python3"
  },
  "language_info": {
   "codemirror_mode": {
    "name": "ipython",
    "version": 3
   },
   "file_extension": ".py",
   "mimetype": "text/x-python",
   "name": "python",
   "nbconvert_exporter": "python",
   "pygments_lexer": "ipython3",
   "version": "3.7.6"
  }
 },
 "nbformat": 4,
 "nbformat_minor": 4
}
