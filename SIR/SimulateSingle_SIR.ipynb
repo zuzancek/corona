{
 "cells": [
  {
   "cell_type": "code",
   "execution_count": 1,
   "metadata": {},
   "outputs": [
    {
     "name": "stdout",
     "output_type": "stream",
     "text": [
      "2.0\n"
     ]
    }
   ],
   "source": [
    "import sys\n",
    "import numpy as np\n",
    "import pickle\n",
    "import pandas as pd\n",
    "import plotly\n",
    "import plotly.graph_objects as go\n",
    "import matplotlib.pyplot as plt\n",
    "import seaborn as sns\n",
    "import time\n",
    "import init as x\n",
    "import update_params as xx\n",
    "import simulate_corona_single as sc\n",
    "import simulate_corona_senior_single as scs\n",
    "import multiprocessing as mp\n",
    "import save_part as sp\n",
    "\n",
    "## setting\n",
    "x.fnc_type = 0 # 0 =  benchmark, 1 = treat senior spec.\n",
    "x.R0_type = 1  # 0 = normal, 1 = low, 2 = high\n",
    "xx.set_params()\n",
    "alpha_min = 0.35\n",
    "alpha_max = 1\n",
    "alpha_step = 0.05\n",
    "\n",
    "## initialize\n",
    "out_filename_root,out_fig_root,out_stat_root=x.setup_paths(x.fnc_type,x.R0_type)\n",
    "if x.fnc_type == 0:\n",
    "    fnc_name = sc.simul\n",
    "else:\n",
    "    x.fnc_name = scs.simul\n",
    "out_filename = out_filename_root+\"/\"+x.out_filename\n",
    "\n",
    "pct_data=[]\n",
    "raw_data=[]\n",
    "np.random.seed(123)\n",
    "alpha_vec = np.arange(alpha_min,alpha_max+alpha_step,alpha_step)\n",
    "alpha_len = len(alpha_vec)\n",
    "\n",
    "def run_simulation(fun):\n",
    "    cores_cnt = mp.cpu_count()\n",
    "    pool = mp.Pool(cores_cnt)\n",
    "    tic = time.perf_counter()\n",
    "    res = pool.map(fun,alpha_vec)\n",
    "    toc = time.perf_counter()\n",
    "    pool.close()\n",
    "    dt_avg = (toc-tic)/x.simul_cnt\n",
    "    for idx in range(alpha_len):\n",
    "        ax,bx,alpha_vec[idx] = res[idx]\n",
    "        pct_data.append(ax)\n",
    "        raw_data.append(bx)\n",
    "    return dt_avg\n",
    "\n",
    "def save_results():\n",
    "    fid = open(out_filename,'wb')\n",
    "    pickle.dump([pct_data,raw_data,alpha_vec],fid)\n",
    "    fid.close()\n",
    "\n",
    "\n",
    "print(\"R0:\"+str(x.R0))\n",
    "print(\"beta:\"+str(x.beta))\n",
    "print(\"alpha vector:\"+str(alpha_vec))\n",
    "\n",
    "## run all simulations\n",
    "print(\"Running simulation ... \",end=\"\",flush=True)\n",
    "tpi=run_simulation(fnc_name)\n",
    "print(\"Finished\")\n",
    "print(\"Time per iteration (sec.): \"+str(tpi))\n",
    "\n",
    "## save results\n",
    "print(\"Saving results ...\",end=\"\",flush=True)\n",
    "save_results()\n",
    "print(\"Finished\")\n",
    "    "
   ]
  },
  {
   "cell_type": "code",
   "execution_count": null,
   "metadata": {},
   "outputs": [],
   "source": []
  }
 ],
 "metadata": {
  "kernelspec": {
   "display_name": "Python 3",
   "language": "python",
   "name": "python3"
  },
  "language_info": {
   "codemirror_mode": {
    "name": "ipython",
    "version": 3
   },
   "file_extension": ".py",
   "mimetype": "text/x-python",
   "name": "python",
   "nbconvert_exporter": "python",
   "pygments_lexer": "ipython3",
   "version": "3.7.6"
  }
 },
 "nbformat": 4,
 "nbformat_minor": 4
}
