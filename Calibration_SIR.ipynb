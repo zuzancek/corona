{
 "cells": [
  {
   "cell_type": "code",
   "execution_count": 3,
   "metadata": {},
   "outputs": [
    {
     "name": "stdout",
     "output_type": "stream",
     "text": [
      "beta: 0.3\t beta scale:1\n"
     ]
    },
    {
     "data": {
      "text/plain": [
       "<function matplotlib.pyplot.close(fig=None)>"
      ]
     },
     "execution_count": 3,
     "metadata": {},
     "output_type": "execute_result"
    },
    {
     "data": {
      "image/png": "[encoded data removed]",
      "text/plain": [
       "<Figure size 792x288 with 1 Axes>"
      ]
     },
     "metadata": {},
     "output_type": "display_data"
    }
   ],
   "source": [
    "import sys\n",
    "import numpy as np\n",
    "import scipy.special as sps\n",
    "from tqdm import tqdm_notebook\n",
    "import pickle\n",
    "import pandas as pd\n",
    "import plotly\n",
    "import plotly.graph_objects as go\n",
    "import matplotlib.pyplot as plt\n",
    "import seaborn as sns\n",
    "import time\n",
    "import init as z\n",
    "import simulate_corona as sc\n",
    "import simulate_corona_senior as scs\n",
    "import multiprocessing as mp\n",
    "import load_part as lp\n",
    "\n",
    "sns.set(rc={'figure.figsize':(11, 4)})\n",
    "\n",
    "## Plotting\n",
    "## 1. Histogram beta ~ gamma dist\n",
    "# parameters: shape,scale,size\n",
    "sim_num=10**5\n",
    "num_bin = 50\n",
    "beta = z.beta;\n",
    "beta_scale = z.beta_scale\n",
    "print(\"beta: \"+str(beta)+\"\\t beta scale:\"+str(beta_scale))\n",
    "\n",
    "beta_vec1 = np.random.gamma(beta,beta_scale,sim_num)\n",
    "beta_vec2 = np.random.gamma(beta,2*beta_scale,sim_num)\n",
    "beta_max0 = 0.75\n",
    "beta_vec_adj1 = np.where(beta_vec1>beta_max0,beta_max0, beta_vec1)\n",
    "beta_vec_adj2 = np.where(beta_vec2>beta_max0,beta_max0, beta_vec2)\n",
    "cnt,bins,ign = plt.hist([beta_vec_adj1,beta_vec_adj2],bins=num_bin,density=True)\n",
    "plt.legend(['1' '2'])\n",
    "plt.ylabel('Probability')\n",
    "plt.savefig(\"./fig/Histogram_betas_0.png\")\n",
    "plt.close"
   ]
  },
  {
   "cell_type": "code",
   "execution_count": 1,
   "metadata": {},
   "outputs": [
    {
     "ename": "NameError",
     "evalue": "name 'np' is not defined",
     "output_type": "error",
     "traceback": [
      "\u001b[1;31m---------------------------------------------------------------------------\u001b[0m",
      "\u001b[1;31mNameError\u001b[0m                                 Traceback (most recent call last)",
      "\u001b[1;32m<ipython-input-1-3cc35530ea33>\u001b[0m in \u001b[0;36m<module>\u001b[1;34m\u001b[0m\n\u001b[1;32m----> 1\u001b[1;33m \u001b[0mbeta_vec\u001b[0m \u001b[1;33m=\u001b[0m \u001b[0mnp\u001b[0m\u001b[1;33m.\u001b[0m\u001b[0mrandom\u001b[0m\u001b[1;33m.\u001b[0m\u001b[0mbeta\u001b[0m\u001b[1;33m(\u001b[0m\u001b[1;36m40\u001b[0m\u001b[1;33m,\u001b[0m\u001b[1;36m95\u001b[0m\u001b[1;33m,\u001b[0m\u001b[0msim_num\u001b[0m\u001b[1;33m)\u001b[0m\u001b[1;33m\u001b[0m\u001b[1;33m\u001b[0m\u001b[0m\n\u001b[0m\u001b[0;32m      2\u001b[0m \u001b[0mcnt\u001b[0m\u001b[1;33m,\u001b[0m\u001b[0mbins\u001b[0m\u001b[1;33m,\u001b[0m\u001b[0mign\u001b[0m \u001b[1;33m=\u001b[0m \u001b[0mplt\u001b[0m\u001b[1;33m.\u001b[0m\u001b[0mhist\u001b[0m\u001b[1;33m(\u001b[0m\u001b[0mbeta_vec\u001b[0m\u001b[1;33m,\u001b[0m\u001b[0mbins\u001b[0m\u001b[1;33m=\u001b[0m\u001b[0mnum_bin\u001b[0m\u001b[1;33m,\u001b[0m\u001b[0mdensity\u001b[0m\u001b[1;33m=\u001b[0m\u001b[1;32mTrue\u001b[0m\u001b[1;33m)\u001b[0m\u001b[1;33m\u001b[0m\u001b[1;33m\u001b[0m\u001b[0m\n\u001b[0;32m      3\u001b[0m \u001b[0mplt\u001b[0m\u001b[1;33m.\u001b[0m\u001b[0mclose\u001b[0m\u001b[1;33m\u001b[0m\u001b[1;33m\u001b[0m\u001b[0m\n",
      "\u001b[1;31mNameError\u001b[0m: name 'np' is not defined"
     ]
    }
   ],
   "source": [
    "# 2. Histogram: beta~ beta dist. (very narrow)\n",
    "beta_vec = np.random.beta(40,95,sim_num)\n",
    "cnt,bins,ign = plt.hist(beta_vec,bins=num_bin,density=True)\n",
    "plt.savefig(\"./fig/Histogram_betas_1.png\")\n",
    "plt.close"
   ]
  },
  {
   "cell_type": "code",
   "execution_count": null,
   "metadata": {},
   "outputs": [],
   "source": [
    "# 3. distribution for R0\n",
    "# assumption: gamma is a scalar, not a random variable\n",
    "\n",
    "R0_vec = np.random.gamma(z.beta/z.gamma,z.beta_scale,200000)\n",
    "print(\"R0:=\"+str(z.R0))\n",
    "R0_max = beta_max0/z.gamma\n",
    "R0_vec = np.where(R0>R0_max, R0_max, R0)\n",
    "cnt,bins,ign=plt.hist(R0_vec,bins=50,density=True)\n",
    "yy=bins**(z.R0-1)*(np.exp(-bins/sc)/(sps.gamma(z.R0)*sc**z.R0))\n",
    "plt.plot(bins,yy,linewidth=2,color='r')\n",
    "plt.ylabel('Probability')\n",
    "plt.savefig(\"./fig/Histogram_R0.png\")\n",
    "plt.close"
   ]
  }
 ],
 "metadata": {
  "kernelspec": {
   "display_name": "Python 3",
   "language": "python",
   "name": "python3"
  },
  "language_info": {
   "codemirror_mode": {
    "name": "ipython",
    "version": 3
   },
   "file_extension": ".py",
   "mimetype": "text/x-python",
   "name": "python",
   "nbconvert_exporter": "python",
   "pygments_lexer": "ipython3",
   "version": "3.7.6"
  }
 },
 "nbformat": 4,
 "nbformat_minor": 4
}
