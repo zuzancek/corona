{
 "cells": [
  {
   "cell_type": "code",
   "execution_count": 1,
   "metadata": {},
   "outputs": [
    {
     "name": "stdout",
     "output_type": "stream",
     "text": [
      "9.875282061703125\n"
     ]
    },
    {
     "ename": "MemoryError",
     "evalue": "",
     "output_type": "error",
     "traceback": [
      "\u001b[1;31m---------------------------------------------------------------------------\u001b[0m",
      "\u001b[1;31mMemoryError\u001b[0m                               Traceback (most recent call last)",
      "\u001b[1;32m<ipython-input-1-a9cbe11741d5>\u001b[0m in \u001b[0;36m<module>\u001b[1;34m\u001b[0m\n\u001b[0;32m     70\u001b[0m \u001b[0mprint\u001b[0m\u001b[1;33m(\u001b[0m\u001b[0mdt_avg_high\u001b[0m\u001b[1;33m)\u001b[0m\u001b[1;33m\u001b[0m\u001b[1;33m\u001b[0m\u001b[0m\n\u001b[0;32m     71\u001b[0m \u001b[1;32mwith\u001b[0m \u001b[0mopen\u001b[0m\u001b[1;33m(\u001b[0m\u001b[1;34m'./out/simulations_high.pickle'\u001b[0m\u001b[1;33m,\u001b[0m\u001b[1;34m'wb'\u001b[0m\u001b[1;33m)\u001b[0m \u001b[1;32mas\u001b[0m \u001b[0mf\u001b[0m\u001b[1;33m:\u001b[0m\u001b[1;33m\u001b[0m\u001b[1;33m\u001b[0m\u001b[0m\n\u001b[1;32m---> 72\u001b[1;33m     \u001b[0mpickle\u001b[0m\u001b[1;33m.\u001b[0m\u001b[0mdump\u001b[0m\u001b[1;33m(\u001b[0m\u001b[1;33m[\u001b[0m\u001b[0mpercSIR_high\u001b[0m\u001b[1;33m,\u001b[0m\u001b[0mSIR_high\u001b[0m\u001b[1;33m]\u001b[0m\u001b[1;33m,\u001b[0m\u001b[0mf\u001b[0m\u001b[1;33m)\u001b[0m\u001b[1;33m\u001b[0m\u001b[1;33m\u001b[0m\u001b[0m\n\u001b[0m\u001b[0;32m     73\u001b[0m \u001b[1;33m\u001b[0m\u001b[0m\n\u001b[0;32m     74\u001b[0m \u001b[1;31m#percSIR_med,SIR_med,dt_avg_med=run_simulation(alpha_vec_mid,sc.simul)\u001b[0m\u001b[1;33m\u001b[0m\u001b[1;33m\u001b[0m\u001b[1;33m\u001b[0m\u001b[0m\n",
      "\u001b[1;31mMemoryError\u001b[0m: "
     ]
    }
   ],
   "source": [
    "import sys\n",
    "import numpy as np\n",
    "from tqdm import tqdm_notebook\n",
    "import pickle\n",
    "import pandas as pd\n",
    "import plotly\n",
    "import plotly.graph_objects as go\n",
    "import matplotlib.pyplot as plt\n",
    "import seaborn as sns\n",
    "import time\n",
    "import init as x\n",
    "import simulate_corona as sc\n",
    "import simulate_corona_senior as scs\n",
    "import multiprocessing as mp\n",
    "sns.set(rc={'figure.figsize':(11, 4)})\n",
    "\n",
    "## initialize\n",
    "np.random.seed(123)\n",
    "percSIR_high=[]\n",
    "percSIR_med=[]\n",
    "percSIR_low=[]\n",
    "percSIR_low_senior=[]\n",
    "SIR_high=[]\n",
    "SIR_med=[]\n",
    "SIR_low=[]\n",
    "SIR_low_senior=[]\n",
    "\n",
    "## setting\n",
    "run_multicore = True\n",
    "run_type = 1 # 1=high 2=med 3=low 4=senior\n",
    "\n",
    "alpha_vec_sen = np.full(x.simul_cnt, x.public_trans_low)\n",
    "alpha_vec_low = np.full(x.simul_cnt, x.public_trans_low)\n",
    "alpha_vec_mid = np.full(x.simul_cnt, x.public_trans_mid)\n",
    "alpha_vec_high = np.full(x.simul_cnt, x.public_trans_high)\n",
    "\n",
    "def run_simulation(alpha_vec,fun):\n",
    "    ra = []\n",
    "    rb = []\n",
    "    if run_multicore:\n",
    "        cores_cnt = mp.cpu_count()\n",
    "        pool = mp.Pool(cores_cnt)\n",
    "        tic = time.perf_counter()\n",
    "        res = pool.map(fun,alpha_vec)\n",
    "        toc = time.perf_counter()\n",
    "        pool.close()\n",
    "        dt_avg = (toc-tic)/x.simul_cnt\n",
    "        k=0\n",
    "        for sim in np.arange(x.simul_cnt):\n",
    "            ra0,rb0 = res[k]\n",
    "            ra.append(ra0)\n",
    "            rb.append(rb0)\n",
    "            k +=1\n",
    "    else:\n",
    "        k=0\n",
    "        tic = time.perf_counter()\n",
    "        for sim in np.arange(x.simul_cnt):    \n",
    "            print(k)\n",
    "            ra0,rb0 = sc.simul(alpha_vec[k])\n",
    "            ra.append(ra0)\n",
    "            ra.append(rb0)\n",
    "            k +=1\n",
    "        toc = time.perf_counter()\n",
    "        dt_avg = (toc-tic)/x.simul_cnt\n",
    "    return ra,rb,dt_avg      \n",
    "    \n",
    "\n",
    "## run all simulations and  save results\n",
    "percSIR_high,SIR_high,dt_avg_high=run_simulation(alpha_vec_high,sc.simul)\n",
    "print(dt_avg_high)\n",
    "with open('./out/simul_high.pickle','wb') as f:\n",
    "    pickle.dump([SIR_high],f)\n",
    "\n",
    "#percSIR_med,SIR_med,dt_avg_med=run_simulation(alpha_vec_mid,sc.simul)\n",
    "#print(dt_avg_med)\n",
    "#with open('./out/simulations_med.pickle','wb') as f:\n",
    "#    pickle.dump([percSIR_med,SIR_med],f)\n",
    "\n",
    "#percSIR_low,SIR_low=run_simulation(alpha_vec_low,sc.simul)\n",
    "#with open('./out/simulations_low.pickle','wb') as f:\n",
    "#    pickle.dump([percSIR_low,SIR_low],f)\n",
    "\n",
    "#percSIR_low_senior,SIR_low_senior=run_simulation(alpha_vec_sen,scs.simul)\n",
    "#with open('./out/simulations_low_senior.pickle','wb') as f:\n",
    "#    pickle.dump([percSIR_low_senior,SIR_low_senior],f)\n",
    "f.close()\n"
   ]
  },
  {
   "cell_type": "code",
   "execution_count": 34,
   "metadata": {},
   "outputs": [
    {
     "name": "stdout",
     "output_type": "stream",
     "text": [
      "[0, 63]\n",
      "True\n",
      "[1, 31]\n",
      "True\n",
      "[2, 15]\n",
      "True\n",
      "[3, 7]\n",
      "True\n",
      "[4, 3]\n",
      "True\n",
      "[5, 1]\n",
      "True\n",
      "1\n"
     ]
    },
    {
     "ename": "OSError",
     "evalue": "[Errno 28] No space left on device",
     "output_type": "error",
     "traceback": [
      "\u001b[1;31m---------------------------------------------------------------------------\u001b[0m",
      "\u001b[1;31mOSError\u001b[0m                                   Traceback (most recent call last)",
      "\u001b[1;32m<ipython-input-34-a06b78d28246>\u001b[0m in \u001b[0;36m<module>\u001b[1;34m\u001b[0m\n\u001b[0;32m     44\u001b[0m     \u001b[0mei\u001b[0m \u001b[1;33m=\u001b[0m \u001b[0mmin\u001b[0m\u001b[1;33m(\u001b[0m\u001b[1;33m(\u001b[0m\u001b[0mk\u001b[0m\u001b[1;33m+\u001b[0m\u001b[1;36m1\u001b[0m\u001b[1;33m)\u001b[0m\u001b[1;33m*\u001b[0m\u001b[0mfsize\u001b[0m\u001b[1;33m,\u001b[0m\u001b[0mn\u001b[0m\u001b[1;33m)\u001b[0m\u001b[1;33m\u001b[0m\u001b[1;33m\u001b[0m\u001b[0m\n\u001b[0;32m     45\u001b[0m     \u001b[0myy\u001b[0m \u001b[1;33m=\u001b[0m \u001b[0my\u001b[0m\u001b[1;33m[\u001b[0m\u001b[0mk\u001b[0m\u001b[1;33m*\u001b[0m\u001b[0mfsize\u001b[0m\u001b[1;33m:\u001b[0m\u001b[0mei\u001b[0m\u001b[1;33m-\u001b[0m\u001b[1;36m1\u001b[0m\u001b[1;33m]\u001b[0m\u001b[1;33m\u001b[0m\u001b[1;33m\u001b[0m\u001b[0m\n\u001b[1;32m---> 46\u001b[1;33m     \u001b[0mpickle\u001b[0m\u001b[1;33m.\u001b[0m\u001b[0mdump\u001b[0m\u001b[1;33m(\u001b[0m\u001b[0myy\u001b[0m\u001b[1;33m,\u001b[0m\u001b[0mf0\u001b[0m\u001b[1;33m)\u001b[0m\u001b[1;33m\u001b[0m\u001b[1;33m\u001b[0m\u001b[0m\n\u001b[0m\u001b[0;32m     47\u001b[0m \u001b[1;33m\u001b[0m\u001b[0m\n",
      "\u001b[1;31mOSError\u001b[0m: [Errno 28] No space left on device"
     ]
    }
   ],
   "source": [
    "y=SIR_high\n",
    "n = len(y)\n",
    "filenameroot = './out/sim_high'\n",
    "f = open(filenameroot+'.pickle','wb')\n",
    "k=0\n",
    "nn = n-1\n",
    "nn0 = nn\n",
    "nn1 = 0\n",
    "cont = True\n",
    "while cont:\n",
    "    print([k, nn])\n",
    "    yy = y[0:nn]\n",
    "    try:\n",
    "        # yy = y[0:nn]\n",
    "        pickle.dump(yy,f)\n",
    "        excthrown = False\n",
    "    except:\n",
    "        excthrown = True\n",
    "    print(excthrown)\n",
    "    if excthrown:\n",
    "        nn0 = nn\n",
    "        if nn<=1:\n",
    "            cont = False\n",
    "        else:\n",
    "            if nn1>0:\n",
    "                nn = int((nn+nn1)/2)\n",
    "            else:\n",
    "                nn = int((nn+1)/2)-1\n",
    "    else:\n",
    "        nn1 = nn\n",
    "        if nn>=n-2:\n",
    "            cont = False\n",
    "        else:\n",
    "            nn = int((nn+nn0)/2)\n",
    "    k+=1  \n",
    "            \n",
    "print(nn)\n",
    "fsize = nn+1\n",
    "filecnt = 1+int(n/(nn+1))\n",
    "k=0\n",
    "for fidx in range(filecnt):\n",
    "    filename0 = filenameroot+'_'+str(k)+'.pickle'\n",
    "    f0 = open(filenameroot,'wb')\n",
    "    ei = min((k+1)*fsize,n)\n",
    "    yy = y[k*fsize:ei-1]\n",
    "    pickle.dump(yy,f0)\n",
    "    "
   ]
  },
  {
   "cell_type": "code",
   "execution_count": 22,
   "metadata": {},
   "outputs": [
    {
     "ename": "TypeError",
     "evalue": "len() takes exactly one argument (0 given)",
     "output_type": "error",
     "traceback": [
      "\u001b[1;31m---------------------------------------------------------------------------\u001b[0m",
      "\u001b[1;31mTypeError\u001b[0m                                 Traceback (most recent call last)",
      "\u001b[1;32m<ipython-input-22-60c39bf53196>\u001b[0m in \u001b[0;36m<module>\u001b[1;34m\u001b[0m\n\u001b[1;32m----> 1\u001b[1;33m \u001b[0mprint\u001b[0m\u001b[1;33m(\u001b[0m\u001b[0mlen\u001b[0m\u001b[1;33m(\u001b[0m\u001b[1;33m)\u001b[0m\u001b[1;33m)\u001b[0m\u001b[1;33m\u001b[0m\u001b[1;33m\u001b[0m\u001b[0m\n\u001b[0m",
      "\u001b[1;31mTypeError\u001b[0m: len() takes exactly one argument (0 given)"
     ]
    }
   ],
   "source": [
    "print(len())"
   ]
  },
  {
   "cell_type": "code",
   "execution_count": null,
   "metadata": {},
   "outputs": [],
   "source": []
  }
 ],
 "metadata": {
  "kernelspec": {
   "display_name": "Python 3",
   "language": "python",
   "name": "python3"
  },
  "language_info": {
   "codemirror_mode": {
    "name": "ipython",
    "version": 3
   },
   "file_extension": ".py",
   "mimetype": "text/x-python",
   "name": "python",
   "nbconvert_exporter": "python",
   "pygments_lexer": "ipython3",
   "version": "3.7.6"
  }
 },
 "nbformat": 4,
 "nbformat_minor": 4
}
