{
 "cells": [
  {
   "cell_type": "code",
   "execution_count": null,
   "metadata": {},
   "outputs": [
    {
     "name": "stdout",
     "output_type": "stream",
     "text": [
      "0\n",
      "1\n",
      "2\n",
      "3\n",
      "4\n",
      "5\n",
      "6\n",
      "7\n",
      "8\n",
      "9\n",
      "10\n",
      "11\n",
      "12\n",
      "13\n",
      "exc\n"
     ]
    }
   ],
   "source": [
    "import sys\n",
    "import numpy as np\n",
    "from tqdm import tqdm_notebook\n",
    "import pickle\n",
    "import pandas as pd\n",
    "import plotly\n",
    "import plotly.graph_objects as go\n",
    "import matplotlib.pyplot as plt\n",
    "import seaborn as sns\n",
    "import time\n",
    "import init as x\n",
    "import simulate_corona as sc\n",
    "import multiprocessing as mp\n",
    "sns.set(rc={'figure.figsize':(11, 4)})\n",
    "\n",
    "np.random.seed(123)\n",
    "percSIR_med=[]\n",
    "SIR_med=[]\n",
    "\n",
    "cores_cnt = mp.cpu_count()\n",
    "pool = mp.Pool(cores_cnt)\n",
    "\n",
    "alpha0 = x.public_trans_mid\n",
    "alpha_vec = np.full(x.simul_cnt, alpha0)\n",
    "\n",
    "run_multicore = True\n",
    "\n",
    "tic = time.perf_counter()\n",
    "if run_multicore:\n",
    "    res = pool.map(sc.simul,alpha_vec)\n",
    "    k=0\n",
    "    for sim in np.arange(x.simul_cnt):\n",
    "        a_med,b_med = res[k]\n",
    "        percSIR_med.append(a_med)\n",
    "        SIR_med.append(b_med)\n",
    "        k +=1\n",
    "else:\n",
    "    k=0\n",
    "    for sim in np.arange(x.simul_cnt):    \n",
    "        print(k)\n",
    "        a_med,b_med = sc.simul(alpha_vec[k])\n",
    "        percSIR_med.append(a_med)\n",
    "        SIR_med.append(b_med)\n",
    "        k +=1\n",
    "toc = time.perf_counter()\n",
    "dt = toc-tic\n",
    "dt_avg = dt/x.simul_cnt\n",
    "print(dt_avg)\n"
   ]
  }
 ],
 "metadata": {
  "kernelspec": {
   "display_name": "Python 3",
   "language": "python",
   "name": "python3"
  },
  "language_info": {
   "codemirror_mode": {
    "name": "ipython",
    "version": 3
   },
   "file_extension": ".py",
   "mimetype": "text/x-python",
   "name": "python",
   "nbconvert_exporter": "python",
   "pygments_lexer": "ipython3",
   "version": "3.7.6"
  }
 },
 "nbformat": 4,
 "nbformat_minor": 4
}
